{
 "cells": [
  {
   "cell_type": "code",
   "execution_count": 73,
   "id": "b6e6e69c",
   "metadata": {},
   "outputs": [],
   "source": [
    "import os\n",
    "import re\n",
    "import time\n",
    "import torch\n",
    "import random\n",
    "import transformers\n",
    "import pandas as pd\n",
    "import numpy as np\n",
    "from tqdm import tqdm\n",
    "from torch import nn,optim\n",
    "import nltk\n",
    "# Uncomment to download \"stopwords\"\n",
    "from nltk.corpus import stopwords\n",
    "\n",
    "from sklearn.utils import shuffle\n",
    "from json_tools import load_json, dump_json\n",
    "from transformers import BertTokenizer\n",
    "\n",
    "from torch.utils.tensorboard import SummaryWriter  \n",
    "from sklearn.model_selection import train_test_split\n",
    "from transformers import AdamW, get_linear_schedule_with_warmup\n",
    "from torch.utils.data import TensorDataset,Dataset, DataLoader, RandomSampler, SequentialSampler\n",
    "from sklearn.metrics import f1_score, accuracy_score, roc_curve, auc, precision_score,recall_score"
   ]
  },
  {
   "cell_type": "markdown",
   "id": "ce86216f",
   "metadata": {},
   "source": [
    "# load data"
   ]
  },
  {
   "cell_type": "code",
   "execution_count": 74,
   "id": "691185d2",
   "metadata": {},
   "outputs": [],
   "source": [
    "\n",
    "datas = load_json(\"ps_sents_pair_with_label_origin.json\")"
   ]
  },
  {
   "cell_type": "code",
   "execution_count": 75,
   "id": "1fcbbcd2",
   "metadata": {},
   "outputs": [],
   "source": [
    "#shuffle datas\n",
    "datas = shuffle(shuffle(datas,random_state=22),random_state=22)"
   ]
  },
  {
   "cell_type": "code",
   "execution_count": 76,
   "id": "bbe84708",
   "metadata": {},
   "outputs": [
    {
     "data": {
      "text/plain": [
       "(21510, 2689, 2689)"
      ]
     },
     "execution_count": 76,
     "metadata": {},
     "output_type": "execute_result"
    }
   ],
   "source": [
    "train,test = train_test_split(datas,test_size=0.2, random_state=2022)\n",
    "test,val = train_test_split(test,test_size=0.5, random_state=2022)\n",
    "len(train),len(test),len(val)"
   ]
  },
  {
   "cell_type": "markdown",
   "id": "6f991453",
   "metadata": {},
   "source": [
    "##### complaint dataset"
   ]
  },
  {
   "cell_type": "code",
   "execution_count": 77,
   "id": "34b0b0c2",
   "metadata": {},
   "outputs": [
    {
     "data": {
      "text/plain": [
       "3349"
      ]
     },
     "execution_count": 77,
     "metadata": {},
     "output_type": "execute_result"
    }
   ],
   "source": [
    " # Load data and set labels\n",
    "data_complaint = pd.read_csv('data/complaint1700.csv').tweet.values\n",
    "\n",
    "data_non_complaint = pd.read_csv('data/noncomplaint1700.csv').tweet.values\n",
    "sent_pairs = []\n",
    "for i,j in zip(shuffle(data_complaint, random_state=2022), shuffle(data_non_complaint, random_state=2022)):\n",
    "    dic01 ={\"sent1\": i,\"sent2\":j,'label':0}\n",
    "    sent_pairs.append(dic01)\n",
    "for i,j in zip(shuffle(data_complaint, random_state=2022), shuffle(data_complaint, random_state=2022)):\n",
    "    dic00 ={\"sent1\": i,\"sent2\":j,'label':1}\n",
    "    sent_pairs.append(dic00)\n",
    "sent_pairs = [sents for sents in sent_pairs if len(sents[\"sent1\"])>30 and len(sents[\"sent2\"])> 30]\n",
    "dump_json(sent_pairs,\"ps_sents_pair_with_label_data_complaint.json\")\n",
    "len(sent_pairs)"
   ]
  },
  {
   "cell_type": "code",
   "execution_count": 78,
   "id": "02c3f52a",
   "metadata": {},
   "outputs": [
    {
     "data": {
      "text/plain": [
       "(3014, 167, 168)"
      ]
     },
     "execution_count": 78,
     "metadata": {},
     "output_type": "execute_result"
    }
   ],
   "source": [
    "train,test = train_test_split(sent_pairs,test_size=0.1, random_state=2022)\n",
    "test,val = train_test_split(test,test_size=0.5, random_state=2022)\n",
    "len(train),len(test),len(val)"
   ]
  },
  {
   "cell_type": "markdown",
   "id": "9b03d998",
   "metadata": {},
   "source": [
    "# Load the BERT tokenizer"
   ]
  },
  {
   "cell_type": "code",
   "execution_count": 79,
   "id": "20fa789a",
   "metadata": {},
   "outputs": [],
   "source": [
    "\n",
    "tokenizer = BertTokenizer.from_pretrained('bert-base-uncased', do_lower_case=True,cache_dir=os.path.join(os.getcwd(),\"bert-base-uncased_cache\"))\n"
   ]
  },
  {
   "cell_type": "markdown",
   "id": "e52bb827",
   "metadata": {},
   "source": [
    "# find the maximum length"
   ]
  },
  {
   "cell_type": "code",
   "execution_count": 80,
   "id": "55ae2f8d",
   "metadata": {},
   "outputs": [
    {
     "name": "stdout",
     "output_type": "stream",
     "text": [
      "Max length:  113\n"
     ]
    }
   ],
   "source": [
    "\n",
    "sents1 = [d[\"sent1\"].lower() for d in datas]\n",
    "sents2 = [d[\"sent2\"].lower() for d in datas]\n",
    "sents = list(set(sents1+sents2))\n",
    "# Encode our concatenated data\n",
    "encoded_tweets = [tokenizer.encode(sent, add_special_tokens=True) for sent in sents]\n",
    "# Find the maximum length\n",
    "max_len = max([len(sent) for sent in encoded_tweets])\n",
    "print('Max length: ', max_len)"
   ]
  },
  {
   "cell_type": "code",
   "execution_count": 81,
   "id": "8d4f5224",
   "metadata": {},
   "outputs": [],
   "source": [
    "# specify a MAX_LEN you like\n",
    "MAX_LEN=128"
   ]
  },
  {
   "cell_type": "code",
   "execution_count": 82,
   "id": "8f53f9f8",
   "metadata": {},
   "outputs": [],
   "source": [
    "def text_preprocessing(text):\n",
    "    \"\"\"\n",
    "    - Remove entity mentions (eg. '@united')\n",
    "    - Correct errors (eg. '&amp;' to '&')\n",
    "    @param    text (str): a string to be processed.\n",
    "    @return   text (Str): the processed string.\n",
    "    \"\"\"\n",
    "    # Remove '@name'\n",
    "    text = re.sub(r'(@.*?)[\\s]', ' ', text)\n",
    "\n",
    "    # Replace '&amp;' with '&'\n",
    "    text = re.sub(r'&amp;', '&', text)\n",
    "\n",
    "    # Remove trailing whitespace\n",
    "    text = re.sub(r'\\s+', ' ', text).strip()\n",
    "\n",
    "    return text\n",
    "\n",
    "\n",
    "def text_preprocessing_data2(s):\n",
    "    \"\"\"\n",
    "    - Lowercase the sentence\n",
    "    - Change \"'t\" to \"not\"\n",
    "    - Remove \"@name\"\n",
    "    - Isolate and remove punctuations except \"?\"\n",
    "    - Remove other special characters\n",
    "    - Remove stop words except \"not\" and \"can\"\n",
    "    - Remove trailing whitespace\n",
    "    \"\"\"\n",
    "    s = s.lower()\n",
    "    # Change 't to 'not'\n",
    "    s = re.sub(r\"\\'t\", \" not\", s)\n",
    "    # Remove @name\n",
    "    s = re.sub(r'(@.*?)[\\s]', ' ', s)\n",
    "    # Isolate and remove punctuations except '?'\n",
    "    s = re.sub(r'([\\'\\\"\\.\\(\\)\\!\\?\\\\\\/\\,])', r' \\1 ', s)\n",
    "    s = re.sub(r'[^\\w\\s\\?]', ' ', s)\n",
    "    # Remove some special characters\n",
    "    s = re.sub(r'([\\;\\:\\|•«\\n])', ' ', s)\n",
    "    # Remove stopwords except 'not' and 'can'\n",
    "    s = \" \".join([word for word in s.split()\n",
    "                  if word not in stopwords.words('english')\n",
    "                  or word in ['not', 'can']])\n",
    "    # Remove trailing whitespace\n",
    "    s = re.sub(r'\\s+', ' ', s).strip()\n",
    "    \n",
    "    return s"
   ]
  },
  {
   "cell_type": "markdown",
   "id": "c1e80089",
   "metadata": {},
   "source": [
    "# set device"
   ]
  },
  {
   "cell_type": "code",
   "execution_count": 83,
   "id": "95dec116",
   "metadata": {},
   "outputs": [
    {
     "name": "stdout",
     "output_type": "stream",
     "text": [
      "No GPU available, using the CPU instead.\n"
     ]
    }
   ],
   "source": [
    "def get_device():\n",
    "    if torch.cuda.is_available():       \n",
    "        device = torch.device(\"cuda\")\n",
    "        print(f'There are {torch.cuda.device_count()} GPU(s) available.')\n",
    "        print('Device name:', torch.cuda.get_device_name(0))\n",
    "\n",
    "    else:\n",
    "        print('No GPU available, using the CPU instead.')\n",
    "        device = torch.device(\"cpu\")\n",
    "    return device\n",
    "device = get_device()"
   ]
  },
  {
   "cell_type": "markdown",
   "id": "556b336f",
   "metadata": {},
   "source": [
    "# Create a function to tokenize a set of texts"
   ]
  },
  {
   "cell_type": "code",
   "execution_count": 123,
   "id": "868ce9d3",
   "metadata": {},
   "outputs": [],
   "source": [
    "\n",
    "def preprocessing_for_bert(data):\n",
    "    \"\"\"Perform required preprocessing steps for pretrained BERT.\n",
    "    @param    data (np.array): Array of texts to be processed.\n",
    "    @return   input_ids (torch.Tensor): Tensor of token ids to be fed to a model.\n",
    "    @return   attention_masks (torch.Tensor): Tensor of indices specifying which\n",
    "                  tokens should be attended to by the model.\n",
    "    \"\"\"\n",
    "    # Create empty lists to store outputs\n",
    "    input_ids = []\n",
    "    attention_masks = []\n",
    "    token_type_ids= []\n",
    "    # For every sentence...\n",
    "    for sent in data:\n",
    "        # `encode_plus` will:\n",
    "        #    (1) Tokenize the sentence\n",
    "        #    (2) Add the `[CLS]` and `[SEP]` token to the start and end\n",
    "        #    (3) Truncate/Pad sentence to max length\n",
    "        #    (4) Map tokens to their IDs\n",
    "        #    (5) Create attention mask\n",
    "        #    (6) Return a dictionary of outputs\n",
    "        \n",
    "        encoded_sent = tokenizer.encode_plus(\n",
    "            text=text_preprocessing_data2(sent['sent1'].lower()),#The first sequence to be encoded\n",
    "            text_pair=text_preprocessing_data2(sent[\"sent2\"].lower()),# second sequence to be encoded\n",
    "            add_special_tokens=True,        # Add `[CLS]` and `[SEP]`\n",
    "            max_length=MAX_LEN,                  # Max length to truncate/pad\n",
    "            truncation=True,\n",
    "            pad_to_max_length=True,         # Pad sentence to max length\n",
    "            return_token_type_ids=True,\n",
    "#             return_tensors='pt',           # Return PyTorch tensor\n",
    "            return_attention_mask=True      # Return attention mask\n",
    "            )\n",
    "        \n",
    "        # Add the outputs to the lists\n",
    "        input_ids.append(encoded_sent.get('input_ids'))\n",
    "        attention_masks.append(encoded_sent.get('attention_mask'))\n",
    "        token_type_ids.append(encoded_sent.get('attention_mask'))\n",
    "\n",
    "    # Convert lists to tensors\n",
    "    input_ids = torch.tensor(input_ids)\n",
    "    attention_masks = torch.tensor(attention_masks)\n",
    "    token_type_ids =  torch.tensor(token_type_ids)\n",
    "    return input_ids, attention_masks, token_type_ids"
   ]
  },
  {
   "cell_type": "code",
   "execution_count": 122,
   "id": "38f50416",
   "metadata": {},
   "outputs": [],
   "source": [
    "def preprocessing_for_bert_two_sent(data):\n",
    "    input_ids = []\n",
    "    attention_masks = []\n",
    "    token_type_ids= []\n",
    "    for sent in data:\n",
    "        A = tokenizer.encode(sent['sent1'])\n",
    "        B = tokenizer.encode(sent['sent1'])[1:]\n",
    "        input_id= A + B\n",
    "        if len(input_id) > MAX_LEN:\n",
    "            input_id = input_id[:MAX_LEN]\n",
    "            train_mask = len(input_id)*[1]\n",
    "            token_type_id = train_mask\n",
    "        else: \n",
    "            train_mask = len(input_id)*[1] + (MAX_LEN - len(input_id))*[0]\n",
    "            token_type_id = train_mask\n",
    "            input_id += (MAX_LEN - len(input_id))*[0]\n",
    "        # Add the outputs to the lists\n",
    "        input_ids.append(input_id)\n",
    "        attention_masks.append(train_mask)\n",
    "        token_type_ids.append(token_type_id)\n",
    "    # Convert lists to tensors\n",
    "    input_ids = torch.tensor(input_ids)\n",
    "    attention_masks = torch.tensor(attention_masks)\n",
    "    token_type_ids =  torch.tensor(token_type_ids)\n",
    "    return input_ids, attention_masks, token_type_ids"
   ]
  },
  {
   "cell_type": "code",
   "execution_count": 124,
   "id": "c9442d21",
   "metadata": {},
   "outputs": [
    {
     "data": {
      "text/plain": [
       "(tensor([0, 0, 0,  ..., 0, 0, 0]),\n",
       " tensor([0, 1, 0, 0, 0, 0, 1, 0, 1, 1, 0, 1, 1, 0, 0, 1, 0, 0, 1, 1, 0, 1, 1, 1,\n",
       "         0, 0, 1, 1, 1, 0, 0, 1, 1, 1, 0, 1, 0, 0, 0, 0, 1, 1, 0, 1, 0, 0, 0, 0,\n",
       "         1, 1, 0, 1, 0, 1, 0, 0, 1, 0, 0, 1, 1, 0, 1, 0, 0, 1, 0, 1, 0, 1, 0, 0,\n",
       "         0, 0, 0, 1, 0, 1, 1, 1, 1, 0, 0, 1, 1, 1, 1, 1, 1, 1, 1, 0, 0, 1, 0, 0,\n",
       "         1, 1, 0, 1, 1, 1, 0, 0, 0, 1, 1, 0, 1, 0, 1, 1, 1, 1, 1, 1, 0, 0, 1, 0,\n",
       "         0, 1, 0, 1, 1, 1, 0, 1, 0, 0, 1, 0, 1, 1, 0, 1, 1, 1, 1, 0, 0, 1, 1, 1,\n",
       "         0, 0, 1, 1, 0, 1, 1, 1, 1, 1, 0, 0, 1, 0, 0, 1, 0, 0, 0, 1, 0, 0, 1]),\n",
       " tensor([0, 1, 0, 1, 1, 0, 0, 0, 0, 1, 1, 1, 0, 1, 0, 0, 1, 0, 1, 1, 0, 0, 1, 1,\n",
       "         1, 1, 1, 0, 1, 0, 1, 0, 0, 1, 0, 0, 0, 1, 1, 1, 0, 1, 1, 0, 0, 0, 0, 1,\n",
       "         0, 0, 0, 0, 1, 0, 1, 0, 1, 0, 0, 0, 1, 0, 0, 0, 0, 0, 1, 1, 1, 0, 1, 0,\n",
       "         1, 1, 1, 0, 0, 0, 1, 1, 0, 1, 1, 0, 1, 0, 1, 0, 0, 0, 0, 0, 1, 1, 1, 1,\n",
       "         0, 1, 1, 1, 0, 1, 1, 0, 0, 0, 0, 1, 1, 0, 1, 1, 1, 1, 1, 0, 1, 0, 1, 1,\n",
       "         1, 0, 0, 1, 0, 0, 0, 1, 0, 1, 1, 0, 1, 0, 0, 0, 1, 1, 0, 1, 0, 0, 1, 1,\n",
       "         1, 0, 1, 0, 1, 1, 0, 1, 1, 1, 0, 1, 1, 0, 1, 1, 1, 1, 0, 0, 0, 0, 1, 1]))"
      ]
     },
     "execution_count": 124,
     "metadata": {},
     "output_type": "execute_result"
    }
   ],
   "source": [
    "#Convert  labels to torch.Tensor\n",
    "train_labels = torch.tensor([t[\"label\"] for t in train])\n",
    "test_labels = torch.tensor([t[\"label\"] for t in test])\n",
    "val_labels = torch.tensor([t[\"label\"] for t in val])\n",
    "train_labels,test_labels,val_labels"
   ]
  },
  {
   "cell_type": "code",
   "execution_count": 125,
   "id": "4cef6195",
   "metadata": {},
   "outputs": [
    {
     "data": {
      "text/plain": [
       "tensor(0)"
      ]
     },
     "execution_count": 125,
     "metadata": {},
     "output_type": "execute_result"
    }
   ],
   "source": [
    "train_labels[0]"
   ]
  },
  {
   "cell_type": "code",
   "execution_count": 126,
   "id": "5ba356bf",
   "metadata": {},
   "outputs": [
    {
     "data": {
      "text/plain": [
       "(1507, 1507)"
      ]
     },
     "execution_count": 126,
     "metadata": {},
     "output_type": "execute_result"
    }
   ],
   "source": [
    "torch.count_nonzero(train_labels).item(),len(train_labels)-torch.count_nonzero(train_labels).item()"
   ]
  },
  {
   "cell_type": "code",
   "execution_count": 127,
   "id": "a6a63db1",
   "metadata": {},
   "outputs": [
    {
     "data": {
      "text/plain": [
       "(88, 79)"
      ]
     },
     "execution_count": 127,
     "metadata": {},
     "output_type": "execute_result"
    }
   ],
   "source": [
    "torch.count_nonzero(test_labels).item(),len(test_labels)-torch.count_nonzero(test_labels).item()"
   ]
  },
  {
   "cell_type": "code",
   "execution_count": 128,
   "id": "9a78d3ed",
   "metadata": {},
   "outputs": [
    {
     "data": {
      "text/plain": [
       "(86, 82)"
      ]
     },
     "execution_count": 128,
     "metadata": {},
     "output_type": "execute_result"
    }
   ],
   "source": [
    "torch.count_nonzero(val_labels).item(),len(val_labels)-torch.count_nonzero(val_labels).item()"
   ]
  },
  {
   "cell_type": "code",
   "execution_count": 129,
   "id": "2a233efd",
   "metadata": {},
   "outputs": [],
   "source": [
    "# \n",
    "train_inputs, train_masks , train_token_type_ids = preprocessing_for_bert(train)\n",
    "test_inputs, test_masks, test_token_type_ids= preprocessing_for_bert(test)\n",
    "val_inputs, val_masks ,val_token_type_ids= preprocessing_for_bert(val)"
   ]
  },
  {
   "cell_type": "code",
   "execution_count": 130,
   "id": "679cdd88",
   "metadata": {},
   "outputs": [
    {
     "data": {
      "text/plain": [
       "tensor([1, 1, 1, 1, 1, 1, 1, 1, 1, 1, 1, 1, 1, 1, 1, 1, 1, 1, 1, 1, 1, 1, 1, 1,\n",
       "        1, 1, 1, 1, 1, 1, 1, 1, 1, 1, 1, 1, 1, 1, 1, 1, 1, 1, 1, 1, 1, 1, 1, 1,\n",
       "        1, 1, 1, 1, 1, 1, 1, 0, 0, 0, 0, 0, 0, 0, 0, 0, 0, 0, 0, 0, 0, 0, 0, 0,\n",
       "        0, 0, 0, 0, 0, 0, 0, 0, 0, 0, 0, 0, 0, 0, 0, 0, 0, 0, 0, 0, 0, 0, 0, 0,\n",
       "        0, 0, 0, 0, 0, 0, 0, 0, 0, 0, 0, 0, 0, 0, 0, 0, 0, 0, 0, 0, 0, 0, 0, 0,\n",
       "        0, 0, 0, 0, 0, 0, 0, 0])"
      ]
     },
     "execution_count": 130,
     "metadata": {},
     "output_type": "execute_result"
    }
   ],
   "source": [
    "train_masks[123]"
   ]
  },
  {
   "cell_type": "code",
   "execution_count": 131,
   "id": "4df9b44c",
   "metadata": {},
   "outputs": [
    {
     "data": {
      "text/plain": [
       "tensor([  101,  5139, 22610, 16764,  6032,  3291,  1029, 14145,  2080, 12954,\n",
       "         2773, 13828,  2064, 10651,  2149,  5064,  1029,  8299,  2522,  1038,\n",
       "        16409,  2290,  2480,  2546, 24703,  2575,  2595,   102,  5139, 22610,\n",
       "        16764,  6032,  3291,  1029, 14145,  2080, 12954,  2773, 13828,  2064,\n",
       "        10651,  2149,  5064,  1029,  8299,  2522,  1038, 16409,  2290,  2480,\n",
       "         2546, 24703,  2575,  2595,   102,     0,     0,     0,     0,     0,\n",
       "            0,     0,     0,     0,     0,     0,     0,     0,     0,     0,\n",
       "            0,     0,     0,     0,     0,     0,     0,     0,     0,     0,\n",
       "            0,     0,     0,     0,     0,     0,     0,     0,     0,     0,\n",
       "            0,     0,     0,     0,     0,     0,     0,     0,     0,     0,\n",
       "            0,     0,     0,     0,     0,     0,     0,     0,     0,     0,\n",
       "            0,     0,     0,     0,     0,     0,     0,     0,     0,     0,\n",
       "            0,     0,     0,     0,     0,     0,     0,     0])"
      ]
     },
     "execution_count": 131,
     "metadata": {},
     "output_type": "execute_result"
    }
   ],
   "source": [
    "train_inputs[123]"
   ]
  },
  {
   "cell_type": "code",
   "execution_count": 132,
   "id": "4130904e",
   "metadata": {},
   "outputs": [
    {
     "data": {
      "text/plain": [
       "tensor([1, 1, 1, 1, 1, 1, 1, 1, 1, 1, 1, 1, 1, 1, 1, 1, 1, 1, 1, 1, 1, 1, 1, 1,\n",
       "        1, 1, 1, 1, 1, 1, 1, 1, 1, 1, 1, 1, 1, 1, 1, 1, 1, 1, 1, 1, 1, 1, 1, 1,\n",
       "        1, 1, 1, 1, 1, 1, 1, 0, 0, 0, 0, 0, 0, 0, 0, 0, 0, 0, 0, 0, 0, 0, 0, 0,\n",
       "        0, 0, 0, 0, 0, 0, 0, 0, 0, 0, 0, 0, 0, 0, 0, 0, 0, 0, 0, 0, 0, 0, 0, 0,\n",
       "        0, 0, 0, 0, 0, 0, 0, 0, 0, 0, 0, 0, 0, 0, 0, 0, 0, 0, 0, 0, 0, 0, 0, 0,\n",
       "        0, 0, 0, 0, 0, 0, 0, 0])"
      ]
     },
     "execution_count": 132,
     "metadata": {},
     "output_type": "execute_result"
    }
   ],
   "source": [
    "train_token_type_ids[123]"
   ]
  },
  {
   "cell_type": "markdown",
   "id": "fa566f8e",
   "metadata": {},
   "source": [
    "# Create PyTorch DataLoader"
   ]
  },
  {
   "cell_type": "code",
   "execution_count": 136,
   "id": "0c262dea",
   "metadata": {},
   "outputs": [],
   "source": [
    "#Create PyTorch DataLoader\n",
    "\n",
    "# For fine-tuning BERT, the authors recommend a batch size of 16 or 32.\n",
    "batch_size = 16\n",
    "\n",
    "# Create the DataLoader for our training set\n",
    "train_data = TensorDataset(train_inputs, train_masks,train_token_type_ids, train_labels)\n",
    "train_sampler = RandomSampler(train_data)\n",
    "train_dataloader = DataLoader(train_data, sampler=train_sampler, batch_size=batch_size)\n",
    "\n",
    "# Create the DataLoader for our validation set\n",
    "test_data = TensorDataset(test_inputs, test_masks,test_token_type_ids, test_labels)\n",
    "test_sampler = SequentialSampler(test_data)\n",
    "test_dataloader = DataLoader(test_data, sampler=test_sampler, batch_size=batch_size)\n",
    "\n",
    "# Create the DataLoader for our validation set\n",
    "val_data = TensorDataset(val_inputs, val_masks, val_token_type_ids,val_labels)\n",
    "val_sampler = SequentialSampler(val_data)\n",
    "val_dataloader = DataLoader(val_data, sampler=val_sampler, batch_size=batch_size)"
   ]
  },
  {
   "cell_type": "markdown",
   "id": "66892914",
   "metadata": {},
   "source": [
    "# Create BertClassifier"
   ]
  },
  {
   "cell_type": "markdown",
   "id": "bdbe2e86",
   "metadata": {},
   "source": [
    "BERT-base consists of 12 transformer layers, each transformer layer takes in a list of token embeddings, and produces the same number of embeddings with the same hidden size (or dimensions) on the output. The output of the final transformer layer of the [CLS] token is used as the features of the sequence to feed a classifier.\n",
    "\n",
    "The transformers library has the BertForSequenceClassification class which is designed for classification tasks. However, we will create a new class so we can specify our own choice of classifiers.\n",
    "\n",
    "Below we will create a BertClassifier class with a BERT model to extract the last hidden layer of the [CLS] token and a single-hidden-layer feed-forward neural network as our classifier."
   ]
  },
  {
   "cell_type": "code",
   "execution_count": 151,
   "id": "b7527dc4",
   "metadata": {},
   "outputs": [],
   "source": [
    "%%time\n",
    "import torch\n",
    "import torch.nn as nn\n",
    "from transformers import BertModel\n",
    "\n",
    "# Create the BertClassfier class\n",
    "class BertClassifier(nn.Module):\n",
    "    \"\"\"Bert Model for Classification Tasks.\n",
    "    \"\"\"\n",
    "    def __init__(self, freeze_bert=False):\n",
    "        \"\"\"\n",
    "        @param    bert: a BertModel object\n",
    "        @param    classifier: a torch.nn.Module classifier\n",
    "        @param    freeze_bert (bool): Set `False` to fine-tune the BERT model\n",
    "        \"\"\"\n",
    "        super(BertClassifier, self).__init__()\n",
    "        # Specify hidden size of BERT, hidden size of our classifier, and number of labels\n",
    "        # bert base 768 hidden dimension\n",
    "        # bert large 1024 hidden dimension\n",
    "        D_in, H, D_out = 768, 50, 2\n",
    "        unfreeze_layers = ['layer.10','layer.11','bert.pooler','out.']\n",
    "        # Instantiate BERT model\n",
    "        self.bert = BertModel.from_pretrained('bert-base-uncased',cache_dir=os.path.join(os.getcwd(),\"bert-base-uncased_cache\"))\n",
    "\n",
    "        # Instantiate an one-layer feed-forward classifier\n",
    "        self.classifier = nn.Sequential(\n",
    "            nn.Linear(D_in, H),\n",
    "            nn.ReLU(),\n",
    "            #nn.Dropout(0.2),\n",
    "            nn.Linear(H, D_out)\n",
    "        )\n",
    "\n",
    "        # Freeze the BERT model\n",
    "        if freeze_bert:\n",
    "#             for name, param in self.bert.named_parameters():\n",
    "#                 print(name,param.size())\n",
    " \n",
    "#             print(\"*\"*30)\n",
    "#             print('\\n')\n",
    " \n",
    "            for name ,param in self.bert.named_parameters():\n",
    "                param.requires_grad = False\n",
    "                for ele in unfreeze_layers:\n",
    "                    if ele in name:\n",
    "                        param.requires_grad = True\n",
    "                        break\n",
    "#             #验证一下\n",
    "#             for name, param in self.bert.named_parameters():\n",
    "#                 if param.requires_grad:\n",
    "#                     print(name,param.size())\n",
    "\n",
    "        \n",
    "    def forward(self, input_ids, attention_mask, token_type_ids):\n",
    "        \"\"\"\n",
    "        Feed input to BERT and the classifier to compute logits.\n",
    "        @param    input_ids (torch.Tensor): an input tensor with shape (batch_size,\n",
    "                      max_length)\n",
    "        @param    attention_mask (torch.Tensor): a tensor that hold attention mask\n",
    "                      information with shape (batch_size, max_length)\n",
    "        @return   logits (torch.Tensor): an output tensor with shape (batch_size,\n",
    "                      num_labels)\n",
    "        \"\"\"\n",
    "        # Feed input to BERT\n",
    "        outputs = self.bert(input_ids=input_ids,\n",
    "                            token_type_ids=token_type_ids,\n",
    "                            attention_mask=attention_mask)\n",
    "        \n",
    "        # Extract the last hidden state of the token `[CLS]` for classification task\n",
    "        last_hidden_state_cls = outputs[0][:, 0, :]\n",
    "\n",
    "        # Feed input to classifier to compute logits\n",
    "        logits = self.classifier(last_hidden_state_cls)\n",
    "\n",
    "        return logits"
   ]
  },
  {
   "cell_type": "markdown",
   "id": "ca27301f",
   "metadata": {},
   "source": [
    "# Optimizer & Learning Rate Scheduler"
   ]
  },
  {
   "cell_type": "markdown",
   "id": "636af2a8",
   "metadata": {},
   "source": [
    "recommend following hyper-parameters\n",
    "   - Batch size: 16 or 32       \n",
    "   - Learning rate (Adam): 5e-5, 3e-5 or 2e-5  \n",
    "   - Number of epochs: 2, 3, 4  "
   ]
  },
  {
   "cell_type": "code",
   "execution_count": 152,
   "id": "55f8541a",
   "metadata": {},
   "outputs": [],
   "source": [
    "def get_scheduler(optimizer, scheduler: str, warmup_steps: int, t_total: int):\n",
    "        \"\"\"\n",
    "        Returns the correct learning rate scheduler\n",
    "        \"\"\"\n",
    "        scheduler = scheduler.lower()\n",
    "        if scheduler == 'constantlr':\n",
    "            return transformers.get_constant_schedule(optimizer)\n",
    "        elif scheduler == 'warmupconstant':\n",
    "            return transformers.get_constant_schedule_with_warmup(optimizer, num_warmup_steps=warmup_steps)\n",
    "        elif scheduler == 'warmuplinear':\n",
    "            return transformers.get_linear_schedule_with_warmup(optimizer, num_warmup_steps=warmup_steps, num_training_steps=t_total)\n",
    "        elif scheduler == 'warmupcosine':\n",
    "            return transformers.get_cosine_schedule_with_warmup(optimizer, num_warmup_steps=warmup_steps, num_training_steps=t_total)\n",
    "        elif scheduler == 'warmupcosinewithhardrestarts':\n",
    "            return transformers.get_cosine_with_hard_restarts_schedule_with_warmup(optimizer, num_warmup_steps=warmup_steps, num_training_steps=t_total)\n",
    "        else:\n",
    "            raise ValueError(\"Unknown scheduler {}\".format(scheduler))\n"
   ]
  },
  {
   "cell_type": "code",
   "execution_count": 154,
   "id": "79c2b8b1",
   "metadata": {},
   "outputs": [
    {
     "name": "stdout",
     "output_type": "stream",
     "text": [
      "len_train_step:  189\n"
     ]
    }
   ],
   "source": [
    "len_train_step = len(train_dataloader)\n",
    "print('len_train_step: ',len_train_step)\n",
    "\n",
    "def initialize_model(epochs=4,fp16=False,n_gpu=0,local_rank=-1):\n",
    "    \"\"\"Initialize the Bert Classifier, the optimizer and the learning rate scheduler.\n",
    "    \"\"\"\n",
    "    # Instantiate Bert Classifier\n",
    "    bert_classifier = BertClassifier(freeze_bert=False)\n",
    "\n",
    "    # Tell PyTorch to run the model on GPU\n",
    "    bert_classifier.to(device)\n",
    "\n",
    "    # Create the optimizer\n",
    "    # bert_layers越小，学习率应该要越大\n",
    "    #optimizer = AdamW(bert_classifier.parameters(),\n",
    "    #                  lr=5e-5,    # Default learning rate\n",
    "    #                 eps=1e-8    # Default epsilon value\n",
    "    #                  )\n",
    "    # 定义优化器\n",
    "    optimizer = optim.Adam(\n",
    "                            bert_classifier.parameters(),\n",
    "                            lr=5e-5,\n",
    "                            betas=(0.9, 0.999),\n",
    "                            eps=1e-08,\n",
    "                            weight_decay=0,\n",
    "                            amsgrad=False)# Adam梯度下降\n",
    "    # Total number of training steps\n",
    "    total_steps = len_train_step * epochs\n",
    "    warm_up_ratio = 0.0 # 定义要预热的step\n",
    "    # Set up the learning rate scheduler\n",
    "    # https://blog.csdn.net/orangerfun/article/details/120400247\n",
    "    #scheduler = get_linear_schedule_with_warmup(optimizer,\n",
    "    #                                           num_warmup_steps=warm_up_ratio*total_steps, # Default value\n",
    "    #                                            num_training_steps=total_steps)\n",
    "    scheduler = get_scheduler(optimizer, 'warmuplinear', warm_up_ratio*total_steps, total_steps)\n",
    "    #### Optional configuration\n",
    "#     if fp16:\"Whether to use 16-bit (mixed) precision (through NVIDIA apex) instead of 32-bit\"\n",
    "#         try:\n",
    "#             from apex import amp\n",
    "#             fp16_opt_level = '01'\n",
    "#         except ImportError:\n",
    "#             raise ImportError(\"Please install apex from \"\n",
    "#             \"https://www.github.com/nvidia/apex to use fp16 training.\")\n",
    "#         bert_classifier, optimizer = amp.initialize(\n",
    "#             bert_classifier, optimizer, opt_level=fp16_opt_level)\n",
    "#         \"For fp16: Apex AMP optimization level \"\n",
    "#         \"selected in ['O0', 'O1', 'O2', and 'O3'].\"\n",
    "#         \"See details at https://nvidia.github.io/apex/amp.html\"\n",
    "#     # multi-gpu training (should be after apex fp16 initialization)\n",
    "#     if n_gpu > 1:\n",
    "#         bert_classifier = torch.nn.DataParallel(bert_classifier)\n",
    "        \n",
    "#      # Distributed training (should be after apex fp16 initialization)\n",
    "#     if local_rank != -1:\n",
    "#         bert_classifier = torch.nn.parallel.DistributedDataParallel(\n",
    "#             bert_classifier, \n",
    "#             device_ids=[local_rank],\n",
    "#             output_device=local_rank,\n",
    "#             find_unused_parameters=True\n",
    "#             )\n",
    "        \n",
    "    return bert_classifier, optimizer, scheduler\n"
   ]
  },
  {
   "cell_type": "markdown",
   "id": "276a2c2a",
   "metadata": {},
   "source": [
    "# Training Loop"
   ]
  },
  {
   "cell_type": "markdown",
   "id": "4ecd3187",
   "metadata": {},
   "source": [
    "Training:\n",
    "\n",
    "- Unpack our data from the dataloader and load the data onto the GPU\n",
    "- Zero out gradients calculated in the previous pass\n",
    "- Perform a forward pass to compute logits and loss\n",
    "- Perform a backward pass to compute gradients (loss.backward())\n",
    "- Clip the norm of the gradients to 1.0 to prevent \"exploding gradients\"\n",
    "- Update the model's parameters (optimizer.step())\n",
    "- Update the learning rate (scheduler.step())\n",
    "\n",
    "Evaluation:\n",
    "\n",
    "- Unpack our data and load onto the GPU\n",
    "- Forward pass\n",
    "- Compute loss and accuracy rate over the validation set"
   ]
  },
  {
   "cell_type": "code",
   "execution_count": 141,
   "id": "f28d5b90",
   "metadata": {},
   "outputs": [],
   "source": [
    "writer = SummaryWriter('./log/adam_base_large_lr=5e-5droupout=0.0warmup=0.0batchsize=16unfreeze_bert_10_Dec_complaint')"
   ]
  },
  {
   "cell_type": "code",
   "execution_count": 142,
   "id": "7c482b1b",
   "metadata": {},
   "outputs": [],
   "source": [
    "# Specify loss function\n",
    "# loss_fn = nn.CrossEntropyLoss(reduction='mean',label_smoothing=0.05)\n",
    "loss_fn = nn.CrossEntropyLoss(reduction='mean')#https://blog.csdn.net/zyoung17/article/details/108430465\n",
    "def set_seed(seed_value=42):\n",
    "    \"\"\"Set seed for reproducibility.\n",
    "    \"\"\"\n",
    "    random.seed(seed_value)\n",
    "    np.random.seed(seed_value)\n",
    "    torch.manual_seed(seed_value)\n",
    "    torch.cuda.manual_seed_all(seed_value)\n",
    "    \n",
    "\n",
    "def train(model, train_dataloader, val_dataloader=None, epochs=4, evaluation=False):\n",
    "    \"\"\"Train the BertClassifier model.\n",
    "    \"\"\"\n",
    "    # Start training loop\n",
    "    print(\"Start training...\\n\")\n",
    "    one_cricle_length = len(train_dataloader)\n",
    "    for epoch_i in range(epochs):\n",
    "        # =======================================\n",
    "        #               Training\n",
    "        # =======================================\n",
    "        # Print the header of the result table\n",
    "        print(f\"{'Epoch':^7} | {'Batch':^7} | {'Train Loss':^12} | {'Val Loss':^10} | {'Val F1':^9} | {'Elapsed/lr':^9}\")\n",
    "        print(\"-\"*70)\n",
    "\n",
    "        # Measure the elapsed time of each epoch\n",
    "        t0_epoch, t0_batch = time.time(), time.time()\n",
    "\n",
    "        # Reset tracking variables at the beginning of each epoch\n",
    "        total_loss, batch_loss, batch_counts = 0, 0, 0\n",
    "\n",
    "        # Put the model into the training mode\n",
    "        model.train()\n",
    "\n",
    "        # For each batch of training data...\n",
    "        for step, batch in enumerate(train_dataloader):\n",
    "            batch_counts +=1\n",
    "            # Load batch to GPU\n",
    "            b_input_ids, b_attn_mask,b_token_type_ids, b_labels = tuple(t.to(device) for t in batch)\n",
    "\n",
    "            # Zero out any previously calculated gradients\n",
    "            model.zero_grad()\n",
    "\n",
    "            # Perform a forward pass. This will return logits.\n",
    "            logits = model(b_input_ids,b_token_type_ids, b_attn_mask)\n",
    "#             print('logits,b_labels')\n",
    "#             print(logits)\n",
    "#             print(b_labels)\n",
    "            '''tensor([[-0.0491,  0.1918],\n",
    "                       [-0.0062,  0.1743],\n",
    "                       [-0.0856,  0.2257],\n",
    "                       [-0.0044,  0.1629]], grad_fn=<AddmmBackward>)\n",
    "                tensor([0, 1, 0, 0])\n",
    "            '''\n",
    "            #print(logits.shape)  #torch.Size([4, 2]), 4是batch_size, 2是类别\n",
    "            #print(b_labels.shape) #torch.Size([4])\n",
    "            # Compute loss and accumulate the loss values\n",
    "            loss = loss_fn(logits, b_labels)\n",
    "            #print(loss)\n",
    "            #print(logits.shape,b_labels.shape,loss.shape)\n",
    "            batch_loss += loss.item()\n",
    "            total_loss += loss.item()\n",
    "\n",
    "            # Perform a backward pass to calculate gradients\n",
    "            loss.backward()\n",
    "#             b = 0.64\n",
    "#             flood = (loss-b).abs()+b\n",
    "#             flood.backward()\n",
    "            \n",
    "            # Clip the norm of the gradients to 1.0 to prevent \"exploding gradients\",L2 norm fuc\n",
    "            torch.nn.utils.clip_grad_norm_(model.parameters(), 1.0, norm_type=2)\n",
    "\n",
    "            # Update parameters and the learning rate\n",
    "            op_params =optimizer.state_dict()['param_groups'][0]\n",
    "            lr = op_params.get('lr')\n",
    "            \n",
    "            ########################################################################\n",
    "            # Print the loss values and time elapsed for every 20 batches\n",
    "            if (step % 20 == 0 and step != 0) or (step == len(train_dataloader) - 1):\n",
    "                writer.add_scalar('step/train_loss_step', batch_loss / batch_counts, step + epoch_i*one_cricle_length)\n",
    "                writer.add_scalar('step/train_lr_step', lr, step + epoch_i*one_cricle_length)\n",
    "\n",
    "                # Calculate time elapsed for 20 batches\n",
    "                time_elapsed = time.time() - t0_batch\n",
    "#                 writer.add_scalar('steploss/train_loss_step', batch_loss / batch_counts, step)\n",
    "                # Print training results\n",
    "                print(f\"{epoch_i + 1:^7} | {step:^7} | {batch_loss / batch_counts:^12.6f} | {'-':^10} | {'-':^9} | {lr}\")\n",
    "                \n",
    "                # Reset batch tracking variables\n",
    "                batch_loss, batch_counts = 0, 0\n",
    "                t0_batch = time.time()\n",
    "            ###############################################################\n",
    "            optimizer.step()\n",
    "            scheduler.step()\n",
    "        # Calculate the average loss over the entire training data\n",
    "        avg_train_loss = total_loss / len(train_dataloader)\n",
    "\n",
    "        print(\"-\"*70)\n",
    "        # =======================================\n",
    "        #               Evaluation\n",
    "        # =======================================\n",
    "        if evaluation == True:\n",
    "            # After the completion of each training epoch, measure the model's performance\n",
    "            # on our validation set.\n",
    "            val_loss, val_f1, val_accuracy, val_p1, val_r1 = evaluate(model, val_dataloader)\n",
    "\n",
    "            # Print performance over the entire training data\n",
    "            time_elapsed = time.time() - t0_epoch\n",
    "            writer.add_scalar('loss/train_loss', avg_train_loss, epoch_i)\n",
    "            writer.add_scalar('loss/val_loss', val_loss, epoch_i)\n",
    "            writer.add_scalar('matrix/val_f1', val_f1, epoch_i)\n",
    "            writer.add_scalar('matrix/val_p1', val_p1, epoch_i)\n",
    "            writer.add_scalar('matrix/val_r1', val_r1, epoch_i)\n",
    "            writer.add_scalar('matrix/val_accuracy', val_accuracy, epoch_i)\n",
    "            \n",
    "            print(f\"{epoch_i + 1:^7} | {'-':^7} | {avg_train_loss:^12.6f} | {val_loss:^10.6f} | {val_f1:^9.2f} | {time_elapsed:^15.6f}\")\n",
    "            print(\"-\"*70)\n",
    "        print(\"\\n\")\n",
    "    writer.close()\n",
    "    print(\"Training complete!\")\n",
    "\n",
    "\n",
    "def evaluate(model, val_dataloader):\n",
    "    \"\"\"After the completion of each training epoch, measure the model's performance\n",
    "    on our validation set.\n",
    "    \"\"\"\n",
    "    # Put the model into the evaluation mode. The dropout layers are disabled during\n",
    "    # the test time.\n",
    "    model.eval()\n",
    "\n",
    "    # Tracking variables\n",
    "    val_accuracy = []\n",
    "    val_loss = []\n",
    "    val_f1 = []\n",
    "    val_p0,val_p1,val_r0,val_r1 = [],[],[],[]\n",
    "\n",
    "    # For each batch in our validation set...\n",
    "    for batch in val_dataloader:\n",
    "        # Load batch to GPU\n",
    "        b_input_ids, b_attn_mask, b_token_type_ids, b_labels = tuple(t.to(device) for t in batch)\n",
    "\n",
    "        # Compute logits\n",
    "        with torch.no_grad():\n",
    "            logits = model(b_input_ids,b_token_type_ids, b_attn_mask)\n",
    "\n",
    "        # Compute loss\n",
    "        loss = loss_fn(logits, b_labels)\n",
    "        val_loss.append(loss.item())\n",
    "\n",
    "        # Get the predictions\n",
    "        preds = torch.argmax(logits, dim=1).flatten()\n",
    "        #print(preds)\n",
    "        #print(b_labels)\n",
    "        # Calculate the accuracy rate\n",
    "        # accuracy = (preds == b_labels).cpu().numpy().mean() * 100\n",
    "        #accuracy = (preds == b_labels).cpu().numpy().mean()\n",
    "        accuracy = accuracy_score(b_labels, preds,  normalize=True)\n",
    "        f1 = f1_score(b_labels, preds, average='weighted')\n",
    "        precision = precision_score(b_labels, preds, average='weighted')\n",
    "        recall = recall_score(b_labels, preds, average='weighted')\n",
    "        val_f1.append(f1)\n",
    "        val_accuracy.append(accuracy)\n",
    "        val_p1.append(precision)\n",
    "        val_r1.append(recall)\n",
    "    # Compute the average accuracy and loss over the validation set.\n",
    "    val_loss = np.mean(val_loss)\n",
    "    val_f1 = np.mean(val_f1)\n",
    "    val_accuracy = np.mean(val_accuracy)\n",
    "    val_p0 = np.mean(val_p0)\n",
    "    val_p1 = np.mean(val_p1)\n",
    "    val_r0 = np.mean(val_r0)\n",
    "    val_r1 = np.mean(val_r1)\n",
    "\n",
    "    return val_loss, val_f1, val_accuracy,val_p1,val_r1"
   ]
  },
  {
   "cell_type": "markdown",
   "id": "1aad9dfa",
   "metadata": {},
   "source": [
    "# running"
   ]
  },
  {
   "cell_type": "code",
   "execution_count": 144,
   "id": "c200b9ac",
   "metadata": {
    "scrolled": true
   },
   "outputs": [
    {
     "name": "stderr",
     "output_type": "stream",
     "text": [
      "Some weights of the model checkpoint at bert-base-uncased were not used when initializing BertModel: ['cls.predictions.transform.dense.bias', 'cls.predictions.transform.LayerNorm.bias', 'cls.seq_relationship.bias', 'cls.seq_relationship.weight', 'cls.predictions.decoder.weight', 'cls.predictions.transform.LayerNorm.weight', 'cls.predictions.bias', 'cls.predictions.transform.dense.weight']\n",
      "- This IS expected if you are initializing BertModel from the checkpoint of a model trained on another task or with another architecture (e.g. initializing a BertForSequenceClassification model from a BertForPreTraining model).\n",
      "- This IS NOT expected if you are initializing BertModel from the checkpoint of a model that you expect to be exactly identical (initializing a BertForSequenceClassification model from a BertForSequenceClassification model).\n"
     ]
    },
    {
     "name": "stdout",
     "output_type": "stream",
     "text": [
      "Start training...\n",
      "\n",
      " Epoch  |  Batch  |  Train Loss  |  Val Loss  |  Val F1   | Elapsed/lr\n",
      "----------------------------------------------------------------------\n",
      "   1    |   20    |   0.236495   |     -      |     -     | 4.82363315696649e-05\n",
      "   1    |   40    |   0.007860   |     -      |     -     | 4.647266313932981e-05\n",
      "   1    |   60    |   0.003752   |     -      |     -     | 4.470899470899471e-05\n",
      "   1    |   80    |   0.002663   |     -      |     -     | 4.294532627865962e-05\n",
      "   1    |   100   |   0.002123   |     -      |     -     | 4.118165784832452e-05\n",
      "   1    |   120   |   0.001783   |     -      |     -     | 3.941798941798942e-05\n",
      "   1    |   140   |   0.001520   |     -      |     -     | 3.7654320987654326e-05\n",
      "   1    |   160   |   0.001337   |     -      |     -     | 3.5890652557319226e-05\n",
      "   1    |   180   |   0.001192   |     -      |     -     | 3.412698412698413e-05\n",
      "   1    |   188   |   0.001095   |     -      |     -     | 3.342151675485009e-05\n",
      "----------------------------------------------------------------------\n"
     ]
    },
    {
     "name": "stderr",
     "output_type": "stream",
     "text": [
      "C:\\ProgramData\\Anaconda3\\lib\\site-packages\\numpy\\core\\fromnumeric.py:3372: RuntimeWarning: Mean of empty slice.\n",
      "  return _methods._mean(a, axis=axis, dtype=dtype,\n",
      "C:\\ProgramData\\Anaconda3\\lib\\site-packages\\numpy\\core\\_methods.py:170: RuntimeWarning: invalid value encountered in double_scalars\n",
      "  ret = ret.dtype.type(ret / rcount)\n"
     ]
    },
    {
     "name": "stdout",
     "output_type": "stream",
     "text": [
      "   1    |    -    |   0.028676   |  0.000779  |   1.00    |   768.510042   \n",
      "----------------------------------------------------------------------\n",
      "\n",
      "\n",
      " Epoch  |  Batch  |  Train Loss  |  Val Loss  |  Val F1   | Elapsed/lr\n",
      "----------------------------------------------------------------------\n",
      "   2    |   20    |   0.001022   |     -      |     -     | 3.1569664902998235e-05\n",
      "   2    |   40    |   0.000935   |     -      |     -     | 2.980599647266314e-05\n",
      "   2    |   60    |   0.000861   |     -      |     -     | 2.8042328042328043e-05\n",
      "   2    |   80    |   0.000789   |     -      |     -     | 2.6278659611992943e-05\n",
      "   2    |   100   |   0.000755   |     -      |     -     | 2.4514991181657847e-05\n",
      "   2    |   120   |   0.000700   |     -      |     -     | 2.275132275132275e-05\n",
      "   2    |   140   |   0.000659   |     -      |     -     | 2.0987654320987655e-05\n",
      "   2    |   160   |   0.000666   |     -      |     -     | 1.922398589065256e-05\n",
      "   2    |   180   |   0.000597   |     -      |     -     | 1.746031746031746e-05\n",
      "   2    |   188   |   0.000584   |     -      |     -     | 1.6754850088183422e-05\n",
      "----------------------------------------------------------------------\n"
     ]
    },
    {
     "name": "stderr",
     "output_type": "stream",
     "text": [
      "C:\\ProgramData\\Anaconda3\\lib\\site-packages\\numpy\\core\\fromnumeric.py:3372: RuntimeWarning: Mean of empty slice.\n",
      "  return _methods._mean(a, axis=axis, dtype=dtype,\n",
      "C:\\ProgramData\\Anaconda3\\lib\\site-packages\\numpy\\core\\_methods.py:170: RuntimeWarning: invalid value encountered in double_scalars\n",
      "  ret = ret.dtype.type(ret / rcount)\n"
     ]
    },
    {
     "name": "stdout",
     "output_type": "stream",
     "text": [
      "   2    |    -    |   0.000769   |  0.000414  |   1.00    |   743.299134   \n",
      "----------------------------------------------------------------------\n",
      "\n",
      "\n",
      " Epoch  |  Batch  |  Train Loss  |  Val Loss  |  Val F1   | Elapsed/lr\n",
      "----------------------------------------------------------------------\n",
      "   3    |   20    |   0.000555   |     -      |     -     | 1.490299823633157e-05\n",
      "   3    |   40    |   0.043915   |     -      |     -     | 1.3139329805996472e-05\n",
      "   3    |   60    |   0.000636   |     -      |     -     | 1.1375661375661376e-05\n",
      "   3    |   80    |   0.000577   |     -      |     -     | 9.61199294532628e-06\n",
      "   3    |   100   |   0.000543   |     -      |     -     | 7.848324514991182e-06\n",
      "   3    |   120   |   0.000522   |     -      |     -     | 6.0846560846560845e-06\n",
      "   3    |   140   |   0.000519   |     -      |     -     | 4.3209876543209875e-06\n",
      "   3    |   160   |   0.000509   |     -      |     -     | 2.5573192239858905e-06\n",
      "   3    |   180   |   0.000527   |     -      |     -     | 7.936507936507937e-07\n",
      "   3    |   188   |   0.000508   |     -      |     -     | 8.818342151675485e-08\n",
      "----------------------------------------------------------------------\n",
      "   3    |    -    |   0.005136   |  0.000363  |   1.00    |   744.136749   \n",
      "----------------------------------------------------------------------\n",
      "\n",
      "\n",
      "Training complete!\n"
     ]
    },
    {
     "name": "stderr",
     "output_type": "stream",
     "text": [
      "C:\\ProgramData\\Anaconda3\\lib\\site-packages\\numpy\\core\\fromnumeric.py:3372: RuntimeWarning: Mean of empty slice.\n",
      "  return _methods._mean(a, axis=axis, dtype=dtype,\n",
      "C:\\ProgramData\\Anaconda3\\lib\\site-packages\\numpy\\core\\_methods.py:170: RuntimeWarning: invalid value encountered in double_scalars\n",
      "  ret = ret.dtype.type(ret / rcount)\n"
     ]
    }
   ],
   "source": [
    "epochs=3\n",
    "set_seed(42)    # Set seed for reproducibility\n",
    "bert_classifier, optimizer, scheduler = initialize_model(epochs=epochs)\n",
    "train(bert_classifier, train_dataloader, val_dataloader, epochs=epochs, evaluation=True)"
   ]
  },
  {
   "cell_type": "code",
   "execution_count": 145,
   "id": "d2c67fd4",
   "metadata": {},
   "outputs": [],
   "source": [
    "\n",
    "#saving a checkpoint assuming the network class named ClassNet\n",
    "checkpoint={'modle':bert_classifier,\n",
    "             'model_state_dict':bert_classifier.state_dict(),\n",
    "             'optimize_state_dict':optimizer.state_dict(),\n",
    "             'epoch':epochs}\n",
    "torch.save(checkpoint,'checkoutpoints/checkpoint_epoch_5_lr_5e-5_dropout_0_warmupstep_0.0_seed_42_complaint.pkl')"
   ]
  },
  {
   "cell_type": "code",
   "execution_count": 146,
   "id": "4e8580f1",
   "metadata": {},
   "outputs": [],
   "source": [
    "def load_checkpoint(filepath,optimizer):\n",
    "    checkpoint = torch.load(filepath)\n",
    "    model=checkpoint['modle']#提前网络结构\n",
    "    model.load_state_dict(checkpoint['model_state_dict'])#加载网络权重参数\n",
    "    optimizer=optimizer\n",
    "    optimizer.load_state_dict(checkpoint['optimize_state_dict'])#加载优化器参数\n",
    "    for parameter in model.parameters():\n",
    "        parameter.requires_grad=False\n",
    "    model.eval()\n",
    "    return model\n",
    "modle=load_checkpoint('checkoutpoints/checkpoint_epoch_5_lr_5e-5_dropout_0_warmupstep_0.0_seed_42_complaint.pkl',optimizer)"
   ]
  },
  {
   "cell_type": "markdown",
   "id": "5a441d75",
   "metadata": {},
   "source": [
    "# Evaluation on Validation Set"
   ]
  },
  {
   "cell_type": "code",
   "execution_count": 147,
   "id": "cab3f71a",
   "metadata": {},
   "outputs": [],
   "source": [
    "import torch.nn.functional as F\n",
    "\n",
    "def bert_predict(model, test_dataloader):\n",
    "    \"\"\"Perform a forward pass on the trained BERT model to predict probabilities\n",
    "    on the test set.\n",
    "    \"\"\"\n",
    "    # Put the model into the evaluation mode. The dropout layers are disabled during\n",
    "    # the test time.\n",
    "    model.eval()\n",
    "\n",
    "    all_logits = []\n",
    "\n",
    "    # For each batch in our test set...\n",
    "    for batch in test_dataloader:\n",
    "        # Load batch to GPU\n",
    "        #b_input_ids, b_attn_mask = tuple(t.to(device) for t in batch)[:2]\n",
    "        b_input_ids, b_attn_mask, b_token_type_ids, b_labels = tuple(t.to(device) for t in batch)\n",
    "\n",
    "        # Compute logits\n",
    "        with torch.no_grad():\n",
    "            logits = model(b_input_ids,b_token_type_ids, b_attn_mask)\n",
    "        all_logits.append(logits)\n",
    "    \n",
    "    # Concatenate logits from each batch\n",
    "    all_logits = torch.cat(all_logits, dim=0)\n",
    "\n",
    "    # Apply softmax to calculate probabilities\n",
    "    probs = F.softmax(all_logits, dim=1).cpu().numpy()\n",
    "\n",
    "    return probs"
   ]
  },
  {
   "cell_type": "code",
   "execution_count": 148,
   "id": "fea482e3",
   "metadata": {},
   "outputs": [],
   "source": [
    "from sklearn.metrics import accuracy_score, roc_curve, auc\n",
    "import matplotlib.pyplot as plt\n",
    "def evaluate_roc(probs, y_true):\n",
    "    \"\"\"\n",
    "    - Print AUC and accuracy on the test set\n",
    "    - Plot ROC\n",
    "    @params    probs (np.array): an array of predicted probabilities with shape (len(y_true), 2)\n",
    "    @params    y_true (np.array): an array of the true values with shape (len(y_true),)\n",
    "    \"\"\"\n",
    "    preds = probs[:, 1]\n",
    "    fpr, tpr, threshold = roc_curve(y_true, preds)\n",
    "    roc_auc = auc(fpr, tpr)\n",
    "    print(f'AUC: {roc_auc:.4f}')\n",
    "       \n",
    "    # Get accuracy over the test set\n",
    "    y_pred = np.where(preds >= 0.5, 1, 0)\n",
    "    accuracy = accuracy_score(y_true, y_pred)\n",
    "    print(f'Accuracy: {accuracy*100:.2f}%')\n",
    "    \n",
    "    # Plot ROC AUC\n",
    "    plt.title('Receiver Operating Characteristic')\n",
    "    plt.plot(fpr, tpr, 'b', label = 'AUC = %0.2f' % roc_auc) \n",
    "    plt.legend(loc = 'lower right')\n",
    "    plt.plot([0, 1], [0, 1],'r--')\n",
    "    plt.xlim([0, 1])\n",
    "    plt.ylim([0, 1])\n",
    "    plt.ylabel('True Positive Rate')\n",
    "    plt.xlabel('False Positive Rate')\n",
    "    plt.show()"
   ]
  },
  {
   "cell_type": "code",
   "execution_count": 150,
   "id": "6d901fd5",
   "metadata": {},
   "outputs": [
    {
     "name": "stdout",
     "output_type": "stream",
     "text": [
      "AUC: 1.0000\n",
      "Accuracy: 100.00%\n"
     ]
    },
    {
     "data": {
      "image/png": "[encoded data removed]",
      "text/plain": [
       "<Figure size 432x288 with 1 Axes>"
      ]
     },
     "metadata": {
      "needs_background": "light"
     },
     "output_type": "display_data"
    }
   ],
   "source": [
    "# Compute predicted probabilities on the test set\n",
    "probs = bert_predict(modle, test_dataloader)\n",
    "\n",
    "# Evaluate the Bert classifier\n",
    "evaluate_roc(probs, test_labels)"
   ]
  },
  {
   "cell_type": "code",
   "execution_count": null,
   "id": "3d7cbfb1",
   "metadata": {},
   "outputs": [],
   "source": []
  },
  {
   "cell_type": "code",
   "execution_count": 100,
   "id": "0425ba99",
   "metadata": {},
   "outputs": [],
   "source": []
  },
  {
   "cell_type": "code",
   "execution_count": 101,
   "id": "d49a8830",
   "metadata": {},
   "outputs": [],
   "source": []
  },
  {
   "cell_type": "code",
   "execution_count": 102,
   "id": "a72d8d12",
   "metadata": {},
   "outputs": [
    {
     "data": {
      "text/html": [
       "<div>\n",
       "<style scoped>\n",
       "    .dataframe tbody tr th:only-of-type {\n",
       "        vertical-align: middle;\n",
       "    }\n",
       "\n",
       "    .dataframe tbody tr th {\n",
       "        vertical-align: top;\n",
       "    }\n",
       "\n",
       "    .dataframe thead th {\n",
       "        text-align: right;\n",
       "    }\n",
       "</style>\n",
       "<table border=\"1\" class=\"dataframe\">\n",
       "  <thead>\n",
       "    <tr style=\"text-align: right;\">\n",
       "      <th></th>\n",
       "      <th>id</th>\n",
       "      <th>target</th>\n",
       "    </tr>\n",
       "  </thead>\n",
       "  <tbody>\n",
       "    <tr>\n",
       "      <th>0</th>\n",
       "      <td>0</td>\n",
       "      <td>0</td>\n",
       "    </tr>\n",
       "    <tr>\n",
       "      <th>1</th>\n",
       "      <td>1</td>\n",
       "      <td>0</td>\n",
       "    </tr>\n",
       "    <tr>\n",
       "      <th>2</th>\n",
       "      <td>2</td>\n",
       "      <td>1</td>\n",
       "    </tr>\n",
       "    <tr>\n",
       "      <th>3</th>\n",
       "      <td>3</td>\n",
       "      <td>1</td>\n",
       "    </tr>\n",
       "  </tbody>\n",
       "</table>\n",
       "</div>"
      ],
      "text/plain": [
       "   id  target\n",
       "0   0       0\n",
       "1   1       0\n",
       "2   2       1\n",
       "3   3       1"
      ]
     },
     "execution_count": 102,
     "metadata": {},
     "output_type": "execute_result"
    }
   ],
   "source": []
  },
  {
   "cell_type": "code",
   "execution_count": null,
   "id": "cbe1bcf3",
   "metadata": {},
   "outputs": [],
   "source": []
  }
 ],
 "metadata": {
  "kernelspec": {
   "display_name": "Python 3",
   "language": "python",
   "name": "python3"
  },
  "language_info": {
   "codemirror_mode": {
    "name": "ipython",
    "version": 3
   },
   "file_extension": ".py",
   "mimetype": "text/x-python",
   "name": "python",
   "nbconvert_exporter": "python",
   "pygments_lexer": "ipython3",
   "version": "3.8.8"
  }
 },
 "nbformat": 4,
 "nbformat_minor": 5
}
